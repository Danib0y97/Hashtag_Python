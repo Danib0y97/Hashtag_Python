{
 "cells": [
  {
   "cell_type": "code",
   "execution_count": 12,
   "metadata": {},
   "outputs": [
    {
     "name": "stdout",
     "output_type": "stream",
     "text": [
      "Batemos a meta das vendas que foi de 50000, vendemos 65300 unidades\n"
     ]
    }
   ],
   "source": [
    "meta_vendas = 50000\n",
    "quantidade_vendidas = 65300\n",
    "\n",
    "if quantidade_vendidas > meta_vendas:\n",
    "    #print(\"Batemos a meta das vendas, \"+ str(quantidade_vendidas) +\" unidades\")\n",
    "    print(\"Batemos a meta das vendas, vendemos {} unidades\".format(quantidade_vendidas))\n",
    "    #print(\"Batemos a meta das vendas que foi de {}, vendemos {} unidades\".format(meta_vendas,quantidade_vendidas))\n",
    "else:\n",
    "    None "
   ]
  },
  {
   "cell_type": "code",
   "execution_count": 15,
   "metadata": {},
   "outputs": [
    {
     "name": "stdout",
     "output_type": "stream",
     "text": [
      "Não batemos a meta das vendas, vendemos 4300 unidades, a meta era 50000... mb\n"
     ]
    }
   ],
   "source": [
    "meta_vendas = 50000\n",
    "quantidade_vendidas = 4300\n",
    "\n",
    "if quantidade_vendidas > meta_vendas:\n",
    "    #print(\"Batemos a meta das vendas, \"+ str(quantidade_vendidas) +\" unidades\")\n",
    "    print(\"Batemos a meta das vendas, vendemos {} unidades\".format(quantidade_vendidas))\n",
    "    #print(\"Batemos a meta das vendas que foi de {}, vendemos {} unidades\".format(meta_vendas,quantidade_vendidas))\n",
    "else:\n",
    "    print(\"Não batemos a meta das vendas, vendemos {} unidades, a meta era {}... mb\".format(quantidade_vendidas,meta_vendas))"
   ]
  }
 ],
 "metadata": {
  "kernelspec": {
   "display_name": "Python 3",
   "language": "python",
   "name": "python3"
  },
  "language_info": {
   "codemirror_mode": {
    "name": "ipython",
    "version": 3
   },
   "file_extension": ".py",
   "mimetype": "text/x-python",
   "name": "python",
   "nbconvert_exporter": "python",
   "pygments_lexer": "ipython3",
   "version": "3.11.4"
  },
  "orig_nbformat": 4
 },
 "nbformat": 4,
 "nbformat_minor": 2
}
