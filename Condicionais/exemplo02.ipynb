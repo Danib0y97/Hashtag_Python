{
 "cells": [
  {
   "cell_type": "code",
   "execution_count": 11,
   "metadata": {},
   "outputs": [
    {
     "name": "stdout",
     "output_type": "stream",
     "text": [
      "0\n"
     ]
    }
   ],
   "source": [
    "meta_um = 0.05\n",
    "meta_dois = 0.20\n",
    "taxa_um = 0.02\n",
    "taxa_dois = 0.04\n",
    "taxa_tres = 0 \n",
    "retorno = 0.03\n",
    "\n",
    "\n",
    "if retorno < meta_um:\n",
    "    print(taxa_tres)\n",
    "\n",
    "elif retorno > meta_um  and retorno < meta_dois:\n",
    "    print(taxa_um)    \n",
    "\n",
    "else:\n",
    "    print(taxa_dois)    \n"
   ]
  },
  {
   "cell_type": "code",
   "execution_count": null,
   "metadata": {},
   "outputs": [],
   "source": []
  }
 ],
 "metadata": {
  "kernelspec": {
   "display_name": "Python 3",
   "language": "python",
   "name": "python3"
  },
  "language_info": {
   "codemirror_mode": {
    "name": "ipython",
    "version": 3
   },
   "file_extension": ".py",
   "mimetype": "text/x-python",
   "name": "python",
   "nbconvert_exporter": "python",
   "pygments_lexer": "ipython3",
   "version": "3.11.4"
  },
  "orig_nbformat": 4
 },
 "nbformat": 4,
 "nbformat_minor": 2
}
