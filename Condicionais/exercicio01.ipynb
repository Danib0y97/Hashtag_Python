{
 "cells": [
  {
   "cell_type": "code",
   "execution_count": 5,
   "metadata": {},
   "outputs": [
    {
     "name": "stdout",
     "output_type": "stream",
     "text": [
      "ganhou, 100.0 \n",
      "Não ganhou , bonus 0 \n",
      "ganhou, 270.0 \n"
     ]
    }
   ],
   "source": [
    "meta = 1000\n",
    "vendas_func1 = 1000\n",
    "vendas_func2 = 770\n",
    "vendas_func3 = 2700\n",
    "\n",
    "if vendas_func1 >= meta:\n",
    "    bonus_1 = vendas_func1 * 0.10\n",
    "    print(\"ganhou, {} \".format(bonus_1))\n",
    "else:\n",
    "    bonus = 0 \n",
    "    print(\"Não ganhou , bonus {} \".format(bonus))\n",
    "\n",
    "if vendas_func2 >= meta:\n",
    "    bonus_2 = vendas_func2 * 0.10\n",
    "    print(\"ganhou, {} \".format(bonus_2))\n",
    "else:\n",
    "    bonus = 0 \n",
    "    print(\"Não ganhou , bonus {} \".format(bonus))   \n",
    "\n",
    "if vendas_func3 >= meta:\n",
    "    bonus_3 = vendas_func3 * 0.10\n",
    "    print(\"ganhou, {} \".format(bonus_3))\n",
    "else:\n",
    "    bonus = 0 \n",
    "    print(\"Não ganhou , bonus {} \".format(bonus))\n",
    "    \n",
    "    "
   ]
  },
  {
   "cell_type": "code",
   "execution_count": null,
   "metadata": {},
   "outputs": [],
   "source": []
  }
 ],
 "metadata": {
  "kernelspec": {
   "display_name": "Python 3",
   "language": "python",
   "name": "python3"
  },
  "language_info": {
   "codemirror_mode": {
    "name": "ipython",
    "version": 3
   },
   "file_extension": ".py",
   "mimetype": "text/x-python",
   "name": "python",
   "nbconvert_exporter": "python",
   "pygments_lexer": "ipython3",
   "version": "3.11.4"
  },
  "orig_nbformat": 4
 },
 "nbformat": 4,
 "nbformat_minor": 2
}
