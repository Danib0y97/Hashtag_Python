{
 "cells": [
  {
   "cell_type": "code",
   "execution_count": 3,
   "metadata": {},
   "outputs": [
    {
     "name": "stdout",
     "output_type": "stream",
     "text": [
      "ganhou , bonus 100.0 \n",
      "não ganhou, 0 \n",
      "ganhou, 405.0 \n"
     ]
    }
   ],
   "source": [
    "meta1 = 1000\n",
    "meta2 = 2000\n",
    "vendas_func1 = 1000\n",
    "vendas_func2 = 770\n",
    "vendas_func3 = 2700\n",
    "\n",
    "if vendas_func1 >= meta2:\n",
    "    bonus_1 = vendas_func1 * 0.15\n",
    "    print(\"ganhou, {} \".format(bonus_1))\n",
    "\n",
    "elif vendas_func1 < meta1:\n",
    "    bonus_1 = 0\n",
    "    print(\"não ganhou, {} \".format(bonus_1))\n",
    "else:\n",
    "    bonus_1 = vendas_func1 * 0.1 \n",
    "    print(\"ganhou , bonus {} \".format(bonus_1))\n",
    "\n",
    "if vendas_func2 >= meta2:\n",
    "    bonus_1 = vendas_func2 * 0.15\n",
    "    print(\"ganhou, {} \".format(bonus_1))\n",
    "\n",
    "elif vendas_func2 < meta1:\n",
    "    bonus_1 = 0\n",
    "    print(\"não ganhou, {} \".format(bonus_1))\n",
    "else:\n",
    "    bonus_1 = vendas_func2 *0.1 \n",
    "    print(\"ganhou , bonus {} \".format(bonus_1))  \n",
    "\n",
    "if vendas_func3 >= meta2:\n",
    "    bonus_1 = vendas_func3 * 0.15\n",
    "    print(\"ganhou, {} \".format(bonus_1))\n",
    "\n",
    "elif vendas_func3 < meta1:\n",
    "    bonus_1 = 0\n",
    "    print(\"não ganhou, {} \".format(bonus_1))\n",
    "else:\n",
    "    bonus_1 = vendas_func3 * 0.1 \n",
    "    print(\"ganhou , bonus {} \".format(bonus_1))\n",
    "    \n",
    "    "
   ]
  },
  {
   "cell_type": "code",
   "execution_count": 4,
   "metadata": {},
   "outputs": [
    {
     "name": "stdout",
     "output_type": "stream",
     "text": [
      "ganhou, 100.0 \n",
      "Não ganhou , bonus 0 \n",
      "ganhou, 405.0 \n"
     ]
    },
    {
     "ename": "NameError",
     "evalue": "name 'asdassad' is not defined",
     "output_type": "error",
     "traceback": [
      "\u001b[1;31m---------------------------------------------------------------------------\u001b[0m",
      "\u001b[1;31mNameError\u001b[0m                                 Traceback (most recent call last)",
      "Cell \u001b[1;32mIn[4], line 28\u001b[0m\n\u001b[0;32m     24\u001b[0m     bonus \u001b[39m=\u001b[39m \u001b[39m0\u001b[39m \n\u001b[0;32m     25\u001b[0m     \u001b[39mprint\u001b[39m(\u001b[39m\"\u001b[39m\u001b[39mNão ganhou , bonus \u001b[39m\u001b[39m{}\u001b[39;00m\u001b[39m \u001b[39m\u001b[39m\"\u001b[39m\u001b[39m.\u001b[39mformat(bonus))\n\u001b[1;32m---> 28\u001b[0m asdassad\n",
      "\u001b[1;31mNameError\u001b[0m: name 'asdassad' is not defined"
     ]
    }
   ],
   "source": [
    "meta = 1000\n",
    "vendas_func1 = 1000\n",
    "vendas_func2 = 770\n",
    "vendas_func3 = 2700\n",
    "\n",
    "if vendas_func1 <= 2000 and vendas_func1 >= 1000:\n",
    "    bonus_1 = vendas_func1 * 0.10\n",
    "    print(\"ganhou, {} \".format(bonus_1))\n",
    "else:\n",
    "    bonus = 0 \n",
    "    print(\"Não ganhou , bonus {} \".format(bonus))\n",
    "\n",
    "if vendas_func2 >= meta:\n",
    "    bonus_2 = vendas_func2 * 0.10\n",
    "    print(\"ganhou, {} \".format(bonus_2))\n",
    "else:\n",
    "    bonus = 0 \n",
    "    print(\"Não ganhou , bonus {} \".format(bonus))   \n",
    "\n",
    "if vendas_func3 >= 2000:\n",
    "    bonus_3 = vendas_func3 * 0.15\n",
    "    print(\"ganhou, {} \".format(bonus_3))\n",
    "else:\n",
    "    bonus = 0 \n",
    "    print(\"Não ganhou , bonus {} \".format(bonus))\n",
    "\n",
    "\n",
    "asdassad\n",
    "    "
   ]
  }
 ],
 "metadata": {
  "kernelspec": {
   "display_name": "Python 3",
   "language": "python",
   "name": "python3"
  },
  "language_info": {
   "codemirror_mode": {
    "name": "ipython",
    "version": 3
   },
   "file_extension": ".py",
   "mimetype": "text/x-python",
   "name": "python",
   "nbconvert_exporter": "python",
   "pygments_lexer": "ipython3",
   "version": "3.11.4"
  },
  "orig_nbformat": 4
 },
 "nbformat": 4,
 "nbformat_minor": 2
}
