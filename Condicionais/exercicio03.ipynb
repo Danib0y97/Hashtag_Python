{
 "cells": [
  {
   "cell_type": "code",
   "execution_count": null,
   "metadata": {},
   "outputs": [],
   "source": [
    "nome = input('nome do produto:')\n",
    "categoria = input('categoria:')\n",
    "quantidade = int(input('quantidade atual em estoque:'))\n",
    "\n",
    "min_alimentos = 50\n",
    "min_bebidas = 75\n",
    "min_limpeza = 30\n",
    "\n",
    "if categoria != 'alimentos'\n",
    "if categoria == 'alimentos':\n",
    "    if quantidade < min_alimentos:\n",
    "        print(\"precisa {} temos {} qnts\".format(nome, quantidade))\n",
    "    else:\n",
    "        None\n",
    "\n",
    "if categoria == 'bebidas':\n",
    "    if quantidade < min_bebidas:\n",
    "        print(\"precisa {} temos {} qnts\" .format(nome, quantidade))\n",
    "    else:\n",
    "        None\n",
    "        \n",
    "if categoria == 'limpeza':\n",
    "    if quantidade < min_limpeza:\n",
    "        print(\"precisa {} temos {} qnts\" .format(nome, quantidade))\n",
    "    else:\n",
    "        None            "
   ]
  },
  {
   "cell_type": "code",
   "execution_count": 6,
   "metadata": {},
   "outputs": [
    {
     "name": "stdout",
     "output_type": "stream",
     "text": [
      "informar os produtos direitos!\n",
      "precisa , temos 21 qnts\n"
     ]
    }
   ],
   "source": [
    "\n",
    "\n",
    "nome = input(\"nome:\" )\n",
    "cat = input(\"categoria:\" )\n",
    "qnt = int(input(\"quantidade:\"))\n",
    "\n",
    "\n",
    "if nome or cat or qnt:\n",
    "    print(\"informar os produtos direitos!\")\n",
    "else:\n",
    "    \n",
    "    if cat == \"alimentos\":\n",
    "     if qnt < 50:\n",
    "        print(\"precisa {}, temos {} qnts\".format(nome, qnt))\n",
    "    else:\n",
    "        None\n",
    "\n",
    "    if cat == \"bebidas\":\n",
    "        if qnt < 75:\n",
    "         print(\"precisa {}, temos {} qnts\".format(nome, qnt))\n",
    "        else:\n",
    "         None\n",
    "\n",
    "    if cat == \"limpeza\":\n",
    "        if qnt < 30:\n",
    "            print(\"precisa {}, temos {} qnts\".format(nome, qnt))\n",
    "        else:\n",
    "         None \n",
    "\n",
    "\n",
    "    "
   ]
  }
 ],
 "metadata": {
  "kernelspec": {
   "display_name": "Python 3",
   "language": "python",
   "name": "python3"
  },
  "language_info": {
   "codemirror_mode": {
    "name": "ipython",
    "version": 3
   },
   "file_extension": ".py",
   "mimetype": "text/x-python",
   "name": "python",
   "nbconvert_exporter": "python",
   "pygments_lexer": "ipython3",
   "version": "3.11.4"
  },
  "orig_nbformat": 4
 },
 "nbformat": 4,
 "nbformat_minor": 2
}
