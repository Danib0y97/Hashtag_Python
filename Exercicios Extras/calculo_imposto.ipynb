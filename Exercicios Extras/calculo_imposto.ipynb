{
 "cells": [
  {
   "attachments": {},
   "cell_type": "markdown",
   "metadata": {},
   "source": [
    "### 1- Imposto a pagar no Lucro Presumido\n",
    "\n",
    "- 5% sobre faturamento de ISS (mensal)\n",
    "- 0,65% de PIS sobre faturamento, (mensal)\n",
    "- 3% de COFINS sobre faturmaneto, (mensal)\n",
    "- 4.8% de IR (trimestral)\n",
    "- 10% de IR Adicional sobre o que ultrapassar 20mil do faturamento (trimestral)\n",
    "- CSLL: 2,88% sobre faturamento (trimestral)"
   ]
  },
  {
   "cell_type": "code",
   "execution_count": 36,
   "metadata": {},
   "outputs": [
    {
     "name": "stdout",
     "output_type": "stream",
     "text": [
      "95141.98 8229.78127 286089.91543999995\n",
      "95425.16 8254.27634 286947.38448\n",
      "89716.31 7760.460814999999 269660.98668\n",
      "78459.99 6786.789135000001 235576.84972000003\n",
      "71087.28 6149.04972 213252.28384\n",
      "83911.06 7258.306689999999 252082.68967999998\n",
      "56467.26 4884.41799 168982.86328\n",
      "88513.58 7656.42467 266019.12024\n",
      "66552.49 5756.790385 199520.93972000002\n",
      "80164.07 6934.192055000001 240736.80396000002\n",
      "66964.33 5792.4145450000005 200767.99124\n",
      "71525.25 6186.934125 214578.457\n",
      "{'jan': (95141.98, 8229.78127, 286089.91543999995), 'fev': (95425.16, 8254.27634, 286947.38448), 'mar': (89716.31, 7760.460814999999, 269660.98668), 'abr': (78459.99, 6786.789135000001, 235576.84972000003), 'mai': (71087.28, 6149.04972, 213252.28384), 'jun': (83911.06, 7258.306689999999, 252082.68967999998), 'jul': (56467.26, 4884.41799, 168982.86328), 'ago': (88513.58, 7656.42467, 266019.12024), 'set': (66552.49, 5756.790385, 199520.93972000002), 'out': (80164.07, 6934.192055000001, 240736.80396000002), 'nov': (66964.33, 5792.4145450000005, 200767.99124), 'dez': (71525.25, 6186.934125, 214578.457)}\n",
      "71525.25\n"
     ]
    }
   ],
   "source": [
    "faturamento = {\n",
    "    'jan': 'R$ 95.141,98',\n",
    "    'fev': 'R$ 95.425,16',\n",
    "    'mar': 'R$ 89.716,31',\n",
    "    'abr': 'R$ 78.459,99',\n",
    "    'mai': 'R$ 71.087,28',\n",
    "    'jun': 'R$ 83.911,06',\n",
    "    'jul': 'R$ 56.467,26',\n",
    "    'ago': 'R$ 88.513,58',\n",
    "    'set': 'R$ 66.552,49',\n",
    "    'out': 'R$ 80.164,07',\n",
    "    'nov': 'R$ 66.964,33',\n",
    "    'dez': 'R$ 71.525,25',\n",
    "}\n",
    "\n",
    "# você precisa inserir no sistema um dicionário no formato:\n",
    "\n",
    "# resultado = {\n",
    "#     'mes': (faturamento, imposto_mensal, imposto_trimestral),\n",
    "# }\n",
    "\n",
    "#resolução:\n",
    "\n",
    "def numero(text): \n",
    "#limpeza do texto:\n",
    "    text = text.replace(\"R$\" , \"\")\n",
    "    text = text.replace(\" \" , \"\") \n",
    "    text = text.replace(\".\" , \"\")   \n",
    "    text = text.replace(\",\" , \".\")  \n",
    "    novo_valor = float(text)\n",
    "    return novo_valor\n",
    "\n",
    "\n",
    "def calc_fat_mensal(valor_faturamento):\n",
    "    iss = valor_faturamento * 0.05\n",
    "    pis = valor_faturamento * 0.0065\n",
    "    cofins = valor_faturamento * 0.03\n",
    "    fat_mensal = iss + pis + cofins\n",
    "    return fat_mensal\n",
    "\n",
    "\n",
    "def calc_fat_tri(valor_faturamento):\n",
    "    ir = valor_faturamento * 0.048\n",
    "    csll = valor_faturamento * 2.88\n",
    "    ad_ir = 0 \n",
    "    if valor_faturamento > 20000:\n",
    "        ad_ir = (valor_faturamento - 20000) * 0.10 # oque passar de 20k, então temos que pegar o valor do faturamento e diminuir de 20k, dps multiplicar esse valor por 0.10.\n",
    "\n",
    "\n",
    "    fat_tri = ir + csll + ad_ir\n",
    "    return fat_tri\n",
    "\n",
    "resultado = {}\n",
    "for faturamentos in faturamento:\n",
    "    valor_faturamento = numero(faturamento[faturamentos])\n",
    "    fat_mensal = calc_fat_mensal(valor_faturamento)\n",
    "    fat_tri = calc_fat_tri(valor_faturamento)\n",
    "    print(valor_faturamento,fat_mensal,fat_tri) # a tupla está aqui, basta coloar em dict\n",
    "    resultado[faturamentos] = (valor_faturamento,fat_mensal,fat_tri) # mes 1, tupla | mes2, tupla 2....\n",
    "\n",
    "\n",
    "\n",
    "\n",
    "print(resultado)\n",
    "\n",
    "\n",
    "print(valor_faturamento)"
   ]
  }
 ],
 "metadata": {
  "kernelspec": {
   "display_name": "Python 3",
   "language": "python",
   "name": "python3"
  },
  "language_info": {
   "codemirror_mode": {
    "name": "ipython",
    "version": 3
   },
   "file_extension": ".py",
   "mimetype": "text/x-python",
   "name": "python",
   "nbconvert_exporter": "python",
   "pygments_lexer": "ipython3",
   "version": "3.11.4"
  },
  "orig_nbformat": 4
 },
 "nbformat": 4,
 "nbformat_minor": 2
}
