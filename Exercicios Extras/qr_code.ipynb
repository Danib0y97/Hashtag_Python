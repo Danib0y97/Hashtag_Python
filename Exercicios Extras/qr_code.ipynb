{
 "cells": [
  {
   "attachments": {},
   "cell_type": "markdown",
   "metadata": {},
   "source": [
    "QR Code Simples"
   ]
  },
  {
   "cell_type": "code",
   "execution_count": 5,
   "metadata": {},
   "outputs": [],
   "source": [
    "import qrcode\n",
    "\n",
    "imagem = qrcode.make(\"http://dnd5e.wikidot.com\")\n",
    "imagem.save(\"qrcode.png\")"
   ]
  },
  {
   "attachments": {},
   "cell_type": "markdown",
   "metadata": {},
   "source": [
    "QR Code com imagem"
   ]
  },
  {
   "cell_type": "code",
   "execution_count": 7,
   "metadata": {},
   "outputs": [],
   "source": [
    "import qrcode\n",
    "from qrcode.image.styledpil import StyledPilImage\n",
    "\n",
    "qr = qrcode.QRCode(error_correction= qrcode.constants.ERROR_CORRECT_H)\n",
    "qr.add_data(\"www.linkedin.com/in/danielfp97\")\n",
    "imagem = qr.make_image(\n",
    "    image_factory =  StyledPilImage, \n",
    "    embeded_image_path = \"ryusenpai.jpeg\"    \n",
    ")\n",
    "\n",
    "imagem.save(\"ryusenpai.png\")"
   ]
  },
  {
   "attachments": {},
   "cell_type": "markdown",
   "metadata": {},
   "source": [
    "Criando diversos QR Code ao mesmo tempo"
   ]
  },
  {
   "cell_type": "code",
   "execution_count": null,
   "metadata": {},
   "outputs": [],
   "source": [
    "redes_sociais = {\n",
    "    \"Facebook\": \"link\",\n",
    "    \"Instagram\": \"link\",\n",
    "    \"YouTube\": \"link\",\n",
    "    \"TikTok\": \"link\",\n",
    "}\n",
    "\n",
    "for rede_social, url in redes_sociais.items():\n",
    "    qr = qrcode.QRCode(error_correction=qrcode.constants.ERROR_CORRECT_H)\n",
    "    qr.add_data(url)\n",
    "\n",
    "    imagem = qr.make_image(\n",
    "        image_factory=StyledPilImage,\n",
    "        embeded_image_path=\"nomedoarquivo.png\",\n",
    "    )\n",
    "\n",
    "    imagem.save(f\"sociais_{rede_social}.png\")"
   ]
  }
 ],
 "metadata": {
  "kernelspec": {
   "display_name": "Python 3",
   "language": "python",
   "name": "python3"
  },
  "language_info": {
   "codemirror_mode": {
    "name": "ipython",
    "version": 3
   },
   "file_extension": ".py",
   "mimetype": "text/x-python",
   "name": "python",
   "nbconvert_exporter": "python",
   "pygments_lexer": "ipython3",
   "version": "3.11.4"
  },
  "orig_nbformat": 4
 },
 "nbformat": 4,
 "nbformat_minor": 2
}
