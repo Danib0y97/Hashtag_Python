{
 "cells": [
  {
   "cell_type": "code",
   "execution_count": 6,
   "metadata": {},
   "outputs": [
    {
     "name": "stdout",
     "output_type": "stream",
     "text": [
      "O produto iphone vendeu 558147 no ano de 2019 e 951642 no ano de 2020, fazendo um aumento percentual de 70.50%\n",
      "O produto tv vendeu 405252 no ano de 2019 e 787604 no ano de 2020, fazendo um aumento percentual de 94.35%\n",
      "O produto máquina de café vendeu 718654 no ano de 2019 e 867660 no ano de 2020, fazendo um aumento percentual de 20.73%\n",
      "O produto notebook dell vendeu 422760 no ano de 2019 e 694913 no ano de 2020, fazendo um aumento percentual de 64.38%\n",
      "O produto notebook hp vendeu 154753 no ano de 2019 e 539704 no ano de 2020, fazendo um aumento percentual de 248.75%\n",
      "O produto microsoft surface vendeu 438508 no ano de 2019 e 667179 no ano de 2020, fazendo um aumento percentual de 52.15%\n",
      "O produto webcam vendeu 237467 no ano de 2019 e 295633 no ano de 2020, fazendo um aumento percentual de 24.49%\n",
      "O produto caixa de som vendeu 489705 no ano de 2019 e 725316 no ano de 2020, fazendo um aumento percentual de 48.11%\n",
      "O produto microfone vendeu 328311 no ano de 2019 e 644622 no ano de 2020, fazendo um aumento percentual de 96.34%\n",
      "O produto câmera canon vendeu 591120 no ano de 2019 e 994303 no ano de 2020, fazendo um aumento percentual de 68.21%\n"
     ]
    }
   ],
   "source": [
    "produtos = ['iphone', 'galaxy', 'ipad', 'tv', 'máquina de café', 'kindle', 'geladeira', 'adega', 'notebook dell', 'notebook hp', 'notebook asus', 'microsoft surface', 'webcam', 'caixa de som', 'microfone', 'câmera canon']\n",
    "vendas2019 = [558147,712350,573823,405252,718654,531580,973139,892292,422760,154753,887061,438508,237467,489705,328311,591120]\n",
    "vendas2020 = [951642,244295,26964,787604,867660,78830,710331,646016,694913,539704,324831,667179,295633,725316,644622,994303]\n",
    "\n",
    "\n",
    "\n",
    "for i, produto in enumerate(produtos):\n",
    "    if vendas2020[i] > vendas2019[i]:\n",
    "      percent = vendas2020[i] / vendas2019[i] -1\n",
    "      print(\"O produto {} vendeu {} no ano de 2019 e {} no ano de 2020, fazendo um aumento percentual de {:.2%}\".format(produto, vendas2019[i],vendas2020[i],percent))"
   ]
  }
 ],
 "metadata": {
  "kernelspec": {
   "display_name": "Python 3",
   "language": "python",
   "name": "python3"
  },
  "language_info": {
   "codemirror_mode": {
    "name": "ipython",
    "version": 3
   },
   "file_extension": ".py",
   "mimetype": "text/x-python",
   "name": "python",
   "nbconvert_exporter": "python",
   "pygments_lexer": "ipython3",
   "version": "3.11.4"
  },
  "orig_nbformat": 4
 },
 "nbformat": 4,
 "nbformat_minor": 2
}
