{
 "cells": [
  {
   "cell_type": "code",
   "execution_count": 15,
   "metadata": {},
   "outputs": [
    {
     "name": "stdout",
     "output_type": "stream",
     "text": [
      "0.21\n",
      "A carga tributaria foi de 21.00%\n"
     ]
    }
   ],
   "source": [
    "preco = 1500 #-> na loja \n",
    "custo = 400 #-> o dono da loja tem que comprar\n",
    "lucro = 785 #-> qnt ele tira de mais, pq ele ta lucrando\n",
    "\n",
    "#custo + lucro  = preco sem imposto\n",
    "\n",
    "#imposto = preco - preco sem imposto\n",
    "\n",
    "\n",
    "\n",
    "def carga_tributaria(preco, custo, lucro):\n",
    "    lucro_bruto = preco - custo \n",
    "    imposto = lucro_bruto - lucro \n",
    "    return imposto\n",
    "    \n",
    "imposto = carga_tributaria(preco, custo, lucro)\n",
    "nova_carga_tributaria = (imposto /preco) \n",
    "\n",
    "print(nova_carga_tributaria)\n",
    "\n",
    "print(\"A carga tributaria foi de {:.2%}\". format(nova_carga_tributaria))"
   ]
  }
 ],
 "metadata": {
  "kernelspec": {
   "display_name": "Python 3",
   "language": "python",
   "name": "python3"
  },
  "language_info": {
   "codemirror_mode": {
    "name": "ipython",
    "version": 3
   },
   "file_extension": ".py",
   "mimetype": "text/x-python",
   "name": "python",
   "nbconvert_exporter": "python",
   "pygments_lexer": "ipython3",
   "version": "3.11.4"
  },
  "orig_nbformat": 4
 },
 "nbformat": 4,
 "nbformat_minor": 2
}
