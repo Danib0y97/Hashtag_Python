{
 "cells": [
  {
   "cell_type": "code",
   "execution_count": 38,
   "metadata": {},
   "outputs": [
    {
     "data": {
      "text/plain": [
       "(['João', 'Julia', 'Ana'], '50.00%')"
      ]
     },
     "execution_count": 38,
     "metadata": {},
     "output_type": "execute_result"
    }
   ],
   "source": [
    "meta = 10000\n",
    "vendas = {\n",
    "    'João': 15000,\n",
    "    'Julia': 27000,\n",
    "    'Marcus': 9900,\n",
    "    'Maria': 3750,\n",
    "    'Ana': 10300,\n",
    "    'Alon': 7870,\n",
    "}\n",
    "\n",
    "def lucros(vendas,meta):\n",
    "    lista = []\n",
    "    \n",
    "    for vendedores in vendas:\n",
    "    \n",
    "     vend_achar = vendas[vendedores] # - > número, o [1]\n",
    " \n",
    "\n",
    "     if vend_achar > meta:\n",
    "      lista.append(vendedores)\n",
    "    \n",
    "\n",
    "    tam_lista = len(lista)  \n",
    "    tam_vendedores = len(vendas)\n",
    "    percent = (tam_lista / tam_vendedores) \n",
    "    porcentagem = \"{:.2%}\".format(percent)\n",
    "\n",
    "    return lista,porcentagem\n",
    "        \n",
    "\n",
    "lucros(vendas,meta)"
   ]
  }
 ],
 "metadata": {
  "language_info": {
   "name": "python"
  },
  "orig_nbformat": 4
 },
 "nbformat": 4,
 "nbformat_minor": 2
}
