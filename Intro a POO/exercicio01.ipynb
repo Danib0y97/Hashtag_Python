{
 "cells": [
  {
   "cell_type": "code",
   "execution_count": 5,
   "metadata": {},
   "outputs": [
    {
     "name": "stdout",
     "output_type": "stream",
     "text": [
      "O tempo é: {} None\n",
      "10\n",
      "9\n",
      "8\n",
      "7\n",
      "6\n",
      "5\n",
      "4\n",
      "3\n",
      "2\n",
      "1\n",
      "0\n"
     ]
    }
   ],
   "source": [
    "#Manual\n",
    "import time \n",
    "\n",
    "\n",
    "print(\"10\")\n",
    "time.sleep(1)\n",
    "print(\"9\")\n",
    "time.sleep(1)\n",
    "print(\"8\")\n",
    "time.sleep(1)\n",
    "print(\"7\")\n",
    "time.sleep(1)\n",
    "print(\"6\")\n",
    "time.sleep(1)\n",
    "print(\"5\")\n",
    "time.sleep(1)\n",
    "print(\"4\")\n",
    "time.sleep(1)\n",
    "print(\"3\")\n",
    "time.sleep(1)\n",
    "print(\"2\")\n",
    "time.sleep(1)\n",
    "print(\"1\")\n",
    "time.sleep(1)\n",
    "print(\"0\")\n",
    "time.sleep(1)"
   ]
  },
  {
   "cell_type": "code",
   "execution_count": 6,
   "metadata": {},
   "outputs": [
    {
     "name": "stdout",
     "output_type": "stream",
     "text": [
      "10\n",
      "9\n",
      "8\n",
      "7\n",
      "6\n",
      "5\n",
      "4\n",
      "3\n",
      "2\n",
      "1\n",
      "0\n"
     ]
    }
   ],
   "source": [
    "import time \n",
    "#por for\n",
    "n  = 10 \n",
    "for i in range(11):\n",
    "    print(n)\n",
    "    time.sleep(1)\n",
    "    n = n -1\n",
    "\n",
    "\n",
    "\n",
    "\n"
   ]
  },
  {
   "cell_type": "code",
   "execution_count": 22,
   "metadata": {},
   "outputs": [
    {
     "name": "stdout",
     "output_type": "stream",
     "text": [
      "É uma terça-feira, do dia 30, do mês julho, do ano 24.E são 04 horas e 14 minutos.\n"
     ]
    }
   ],
   "source": [
    "import datetime\n",
    "import locale\n",
    "\n",
    "locale.setlocale(locale.LC_ALL, 'pt_BR.utf8')\n",
    "\n",
    "\n",
    "\n",
    "agora = datetime.datetime.now()\n",
    "\n",
    "\n",
    "semana = agora.strftime(\"%A\")\n",
    "dia = agora.strftime(\"%d\")\n",
    "mes = agora.strftime(\"%B\")\n",
    "ano = agora.strftime(\"%y\")\n",
    "hora = agora.strftime(\"%I\")\n",
    "minuto = agora.strftime(\"%M\")\n",
    "\n",
    "print(\"É uma {}, do dia {}, do mês {}, do ano {}.E são {} horas e {} minutos.\".format(semana, dia, mes, ano,hora,minuto))"
   ]
  },
  {
   "cell_type": "code",
   "execution_count": 1,
   "metadata": {},
   "outputs": [
    {
     "name": "stdout",
     "output_type": "stream",
     "text": [
      "2024-08-02 17:10:41.646344\n",
      "sexta-feira 02 agosto 24 05:10\n"
     ]
    }
   ],
   "source": [
    "import datetime\n",
    "import locale\n",
    "\n",
    "locale.setlocale(locale.LC_ALL, 'pt_BR.utf8')\n",
    "\n",
    "agora = datetime.datetime.now()\n",
    "print(agora)\n",
    "\n",
    "agora_string = agora.strftime(\"%A %d %B %y %I:%M\")\n",
    "print(agora_string)"
   ]
  }
 ],
 "metadata": {
  "kernelspec": {
   "display_name": "Python 3",
   "language": "python",
   "name": "python3"
  },
  "language_info": {
   "codemirror_mode": {
    "name": "ipython",
    "version": 3
   },
   "file_extension": ".py",
   "mimetype": "text/x-python",
   "name": "python",
   "nbconvert_exporter": "python",
   "pygments_lexer": "ipython3",
   "version": "3.11.4"
  },
  "orig_nbformat": 4
 },
 "nbformat": 4,
 "nbformat_minor": 2
}
