{
 "cells": [
  {
   "cell_type": "code",
   "execution_count": 3,
   "metadata": {},
   "outputs": [
    {
     "name": "stdout",
     "output_type": "stream",
     "text": [
      "2024-07-30 16:29:42.777922\n",
      "154 days, 7:30:17.222078\n"
     ]
    }
   ],
   "source": [
    "import datetime\n",
    "import locale\n",
    "\n",
    "locale.setlocale(locale.LC_ALL, 'pt_BR.utf8')\n",
    "\n",
    "\n",
    "new_eve = datetime.datetime(2025, 1, 1, 0, 0)\n",
    "agora = datetime.datetime.now()\n",
    "\n",
    "tempo = new_eve - agora\n",
    "\n",
    "print(agora)\n",
    "print(tempo)\n",
    "#semana = agora.strftime(\"%A\")\n",
    "#dia = agora.strftime(\"%d\")\n",
    "#mes = agora.strftime(\"%B\")\n",
    "#ano = agora.strftime(\"%y\")\n",
    "#hora = agora.strftime(\"%I\")\n",
    "#minuto = agora.strftime(\"%M\")\n",
    "\n",
    "#print(\"É uma {}, do dia {}, do mês {}, do ano {}.E são {} horas e {} minutos.\".format(semana, dia, mes, ano,hora,minuto))"
   ]
  }
 ],
 "metadata": {
  "kernelspec": {
   "display_name": "Python 3",
   "language": "python",
   "name": "python3"
  },
  "language_info": {
   "codemirror_mode": {
    "name": "ipython",
    "version": 3
   },
   "file_extension": ".py",
   "mimetype": "text/x-python",
   "name": "python",
   "nbconvert_exporter": "python",
   "pygments_lexer": "ipython3",
   "version": "3.11.4"
  },
  "orig_nbformat": 4
 },
 "nbformat": 4,
 "nbformat_minor": 2
}
