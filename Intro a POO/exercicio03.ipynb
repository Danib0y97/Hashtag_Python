{
 "cells": [
  {
   "cell_type": "code",
   "execution_count": 27,
   "metadata": {},
   "outputs": [
    {
     "name": "stdout",
     "output_type": "stream",
     "text": [
      "Desconto\n",
      "<class 'datetime.timedelta'>\n",
      "<class 'datetime.datetime'>\n"
     ]
    }
   ],
   "source": [
    "import datetime\n",
    "import locale\n",
    "\n",
    "locale.setlocale(locale.LC_ALL, 'pt_BR.utf8')\n",
    "\n",
    "last  = agora = datetime.datetime(2023 , 5, 30)\n",
    "agora = datetime.datetime.now()\n",
    "\n",
    "max_dias = datetime.timedelta(30,0,0,0,0,0,0)\n",
    "sub  = (agora - last)\n",
    "\n",
    "if sub > max_dias:\n",
    "    print(\"Desconto\")\n",
    "\n",
    "else:\n",
    "    print(\"Não\")\n",
    "\n",
    "#pode colocar também sub.days\n",
    "#dps if sub.days > 30....\n",
    "\n",
    "\n",
    "print(type(sub))\n",
    "print(type(agora))\n"
   ]
  },
  {
   "cell_type": "code",
   "execution_count": null,
   "metadata": {},
   "outputs": [],
   "source": []
  }
 ],
 "metadata": {
  "kernelspec": {
   "display_name": "Python 3",
   "language": "python",
   "name": "python3"
  },
  "language_info": {
   "codemirror_mode": {
    "name": "ipython",
    "version": 3
   },
   "file_extension": ".py",
   "mimetype": "text/x-python",
   "name": "python",
   "nbconvert_exporter": "python",
   "pygments_lexer": "ipython3",
   "version": "3.11.4"
  },
  "orig_nbformat": 4
 },
 "nbformat": 4,
 "nbformat_minor": 2
}
