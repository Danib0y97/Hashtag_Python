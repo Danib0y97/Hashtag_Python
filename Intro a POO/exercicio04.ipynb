{
 "cells": [
  {
   "cell_type": "code",
   "execution_count": null,
   "metadata": {},
   "outputs": [],
   "source": [
    "from datetime import datetime\n",
    "\n",
    "data_nascimento_usuario = input(\"Informe sua data de nascimento (dd/mm/aaaa): \")\n",
    "data_nascimento_usuario = datetime.strptime(data_nascimento_usuario, \"%d/%m/%Y\")\n",
    "\n",
    "data_atual = datetime.now()\n",
    "\n",
    "idade = data_atual.year - data_nascimento_usuario.year\n",
    "\n",
    "mes_atual = data_atual.month \n",
    "dia_atual = data_atual.day\n",
    "\n",
    "mes_nascimento = data_nascimento_usuario.month \n",
    "dia_nascimento = data_nascimento_usuario.day\n",
    "\n",
    "# se o mês e dia atual for menor que o mês e dia de nascimento, ainda não fez aniversário\n",
    "# por exemplo, se nasceu em 05/07/2000 e hoje é 04/07/2023, ainda não fez aniversário\n",
    "if mes_nascimento > mes_atual:\n",
    "    idade -= 1\n",
    "elif mes_nascimento == mes_atual and dia_nascimento > dia_atual:\n",
    "    idade -= 1\n",
    "\n",
    "print(f\"Sua idade é {idade} anos.\") "
   ]
  }
 ],
 "metadata": {
  "language_info": {
   "name": "python"
  },
  "orig_nbformat": 4
 },
 "nbformat": 4,
 "nbformat_minor": 2
}
