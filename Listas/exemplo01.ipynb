{
 "cells": [
  {
   "cell_type": "code",
   "execution_count": 2,
   "metadata": {},
   "outputs": [
    {
     "name": "stdout",
     "output_type": "stream",
     "text": [
      "Quantidade em estoque de geladeira é de: 180\n",
      "Temos 150 unidades de celular no estoque\n"
     ]
    }
   ],
   "source": [
    "produtos = [\"tv\",\"celular\",\"tablet\",\"mouse\",\"teclado\",\"geladeira\",\"forno\",]\n",
    "estoque = [100,150,100,120,70, 180, 80]\n",
    "\n",
    "i = produtos.index(\"geladeira\")\n",
    "qtde_estoque = estoque[i]\n",
    "\n",
    "print(\"Quantidade em estoque de geladeira é de:{}\".format(qtde_estoque))\n",
    "\n",
    "produto = input('Insira o nome do produto em letra minúscula')\n",
    "\n",
    "if produto in produtos:\n",
    "    i = produtos.index(produto)\n",
    "    qtde_estoque = estoque[i]\n",
    "    print(\"Temos {} unidades de {} no estoque\".format(qtde_estoque,produto))\n",
    "else:\n",
    "    print(\"{} não existe no estoque\".format(produto))"
   ]
  }
 ],
 "metadata": {
  "kernelspec": {
   "display_name": "Python 3",
   "language": "python",
   "name": "python3"
  },
  "language_info": {
   "codemirror_mode": {
    "name": "ipython",
    "version": 3
   },
   "file_extension": ".py",
   "mimetype": "text/x-python",
   "name": "python",
   "nbconvert_exporter": "python",
   "pygments_lexer": "ipython3",
   "version": "3.11.4"
  },
  "orig_nbformat": 4
 },
 "nbformat": 4,
 "nbformat_minor": 2
}
