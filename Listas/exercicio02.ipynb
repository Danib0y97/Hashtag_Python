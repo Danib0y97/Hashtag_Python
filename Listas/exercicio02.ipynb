{
 "cells": [
  {
   "cell_type": "code",
   "execution_count": null,
   "metadata": {},
   "outputs": [],
   "source": [
    "meses = ['jan', 'fev', 'mar', 'abr', 'mai', 'jun', 'jul', 'ago', 'set', 'out', 'nov', 'dez']\n",
    "vendas_1sem = [25000, 29000, 22200, 17750, 15870, 19900]\n",
    "vendas_2sem = [19850, 20120, 17540, 15555, 49051, 9650]\n",
    "\n",
    "vendas_anual = vendas_1sem + vendas_2sem\n",
    "\n",
    "print(vendas_anual)\n",
    "#######\n",
    "\n",
    "melhor = max(vendas_anual)\n",
    "i = vendas_anual.index(melhor)\n",
    "melhor_mes = meses[i]\n",
    "print(melhor_mes)\n",
    "\n",
    "######\n",
    "menor = min(vendas_anual)\n",
    "i = vendas_anual.index(menor)\n",
    "pior_mes = meses[i]\n",
    "print(pior_mes)\n",
    "\n",
    "######\n",
    "\n",
    "print('O melhor mês foi {}, com {} vendas, e o pior mês foi {}, com {} vendas'.format(melhor_mes, melhor, pior_mes, menor))\n",
    "\n",
    "#####\n",
    "\n",
    "faturamento_total = sum(vendas_anual)\n",
    "print(faturamento_total)\n",
    "\n",
    "######\n",
    "\n",
    "representa = float(melhor) / float(faturamento_total)\n",
    "representa\n",
    "print(\"A porcentagem é de {:.2%}\".format(representa))\n",
    "\n",
    "######\n",
    "\n",
    "top_3 = []\n",
    "\n",
    "##\n",
    "#adicionar o maior valor nessa lista e dps "
   ]
  }
 ],
 "metadata": {
  "language_info": {
   "name": "python"
  },
  "orig_nbformat": 4
 },
 "nbformat": 4,
 "nbformat_minor": 2
}
