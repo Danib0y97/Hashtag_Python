{
 "cells": [
  {
   "cell_type": "code",
   "execution_count": 8,
   "metadata": {},
   "outputs": [
    {
     "name": "stdout",
     "output_type": "stream",
     "text": [
      "[25000, 29000, 22200, 17750, 15870, 19900, 19850, 20120, 17540, 15555, 49051, 9650]\n",
      "nov\n",
      "dez\n",
      "O melhor mês foi nov, com 49051 vendas, e o pior mês foi dez, com 9650 vendas\n",
      "261486\n",
      "A porcentagem é de 18.76%\n",
      "[49051, 29000, 25000]\n"
     ]
    }
   ],
   "source": [
    "meses = ['jan', 'fev', 'mar', 'abr', 'mai', 'jun', 'jul', 'ago', 'set', 'out', 'nov', 'dez']\n",
    "vendas_1sem = [25000, 29000, 22200, 17750, 15870, 19900]\n",
    "vendas_2sem = [19850, 20120, 17540, 15555, 49051, 9650]\n",
    "\n",
    "vendas_anual = vendas_1sem + vendas_2sem\n",
    "\n",
    "print(vendas_anual)\n",
    "#######\n",
    "\n",
    "melhor = max(vendas_anual)\n",
    "i = vendas_anual.index(melhor)\n",
    "melhor_mes = meses[i]\n",
    "print(melhor_mes)\n",
    "\n",
    "######\n",
    "menor = min(vendas_anual)\n",
    "i = vendas_anual.index(menor)\n",
    "pior_mes = meses[i]\n",
    "print(pior_mes)\n",
    "\n",
    "######\n",
    "\n",
    "print('O melhor mês foi {}, com {} vendas, e o pior mês foi {}, com {} vendas'.format(melhor_mes, melhor, pior_mes, menor))\n",
    "\n",
    "#####\n",
    "\n",
    "faturamento_total = sum(vendas_anual)\n",
    "print(faturamento_total)\n",
    "\n",
    "######\n",
    "\n",
    "representa = float(melhor) / float(faturamento_total)\n",
    "representa\n",
    "print(\"A porcentagem é de {:.2%}\".format(representa))\n",
    "\n",
    "#######\n",
    "\n",
    "top3 = []\n",
    "\n",
    "top3.append(melhor)\n",
    "vendas_anual.remove(melhor)\n",
    "top3.append(max(vendas_anual))\n",
    "vendas_anual.remove(max(vendas_anual))\n",
    "top3.append(max(vendas_anual))\n",
    "vendas_anual.remove(max(vendas_anual))\n",
    "\n",
    "print(top3)"
   ]
  }
 ],
 "metadata": {
  "kernelspec": {
   "display_name": "Python 3",
   "language": "python",
   "name": "python3"
  },
  "language_info": {
   "codemirror_mode": {
    "name": "ipython",
    "version": 3
   },
   "file_extension": ".py",
   "mimetype": "text/x-python",
   "name": "python",
   "nbconvert_exporter": "python",
   "pygments_lexer": "ipython3",
   "version": "3.11.4"
  },
  "orig_nbformat": 4
 },
 "nbformat": 4,
 "nbformat_minor": 2
}
