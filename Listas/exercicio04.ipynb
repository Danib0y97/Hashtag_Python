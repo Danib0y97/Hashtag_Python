{
 "cells": [
  {
   "cell_type": "code",
   "execution_count": 12,
   "metadata": {},
   "outputs": [
    {
     "name": "stdout",
     "output_type": "stream",
     "text": [
      "44.0\n",
      "40\n",
      "2000000\n",
      "2200000.0\n",
      "200000.0\n"
     ]
    }
   ],
   "source": [
    "produtos = ['computador', 'livro', 'tablet', 'celular', 'tv', 'ar condicionado', 'alexa', 'máquina de café', 'kindle']\n",
    "\n",
    "#cada item da lista dos produtos corresponde a quantidade de vendas no mês e preço, nessa ordem\n",
    "produtos_ecommerce = [\n",
    "    [10000, 2500],\n",
    "    [50000, 40],\n",
    "    [7000, 1200],\n",
    "    [20000, 1500],\n",
    "    [5800, 1300],\n",
    "    [7200, 2500],\n",
    "    [200, 800],\n",
    "    [3300, 700],\n",
    "    [1900, 400]\n",
    "]\n",
    "\n",
    "\n",
    "imposto = 1.1\n",
    "#if \"livros\" in produtos:\n",
    "\n",
    "e_livro = produtos.index(\"livro\")\n",
    "preco_livro = produtos_ecommerce[e_livro][1] * imposto\n",
    "\n",
    "print(preco_livro)\n",
    "\n",
    "#######\n",
    "preco_original = produtos_ecommerce[e_livro][1]\n",
    "custo_reforma = preco_livro\n",
    "\n",
    "print(preco_original)\n",
    "\n",
    "#######\n",
    "\n",
    "geral = preco_original * produtos_ecommerce[e_livro][0]\n",
    "print(geral)\n",
    "\n",
    "geral_reforma = custo_reforma * produtos_ecommerce[e_livro][0]\n",
    "print(geral_reforma)\n",
    " \n",
    "######\n",
    "\n",
    "impacto = geral_reforma - geral \n",
    "\n",
    "print(impacto)"
   ]
  }
 ],
 "metadata": {
  "kernelspec": {
   "display_name": "Python 3",
   "language": "python",
   "name": "python3"
  },
  "language_info": {
   "codemirror_mode": {
    "name": "ipython",
    "version": 3
   },
   "file_extension": ".py",
   "mimetype": "text/x-python",
   "name": "python",
   "nbconvert_exporter": "python",
   "pygments_lexer": "ipython3",
   "version": "3.11.4"
  },
  "orig_nbformat": 4
 },
 "nbformat": 4,
 "nbformat_minor": 2
}
