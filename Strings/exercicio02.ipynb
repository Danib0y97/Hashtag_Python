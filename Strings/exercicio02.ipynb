{
 "cells": [
  {
   "cell_type": "code",
   "execution_count": 5,
   "metadata": {},
   "outputs": [
    {
     "name": "stdout",
     "output_type": "stream",
     "text": [
      "12345678900\n"
     ]
    }
   ],
   "source": [
    "cpf = input(\"Insira o seu cpf: \")\n",
    "\n",
    "cpf = cpf.replace(\".\" , \"\").replace(\"-\", \"\").strip()\n",
    "\n",
    "print(cpf)\n",
    "#string\n",
    "if len(cpf) != 11 and cpf.isnumeric:\n",
    "   print(\"CPF inválido, digite novamente... :X\")\n",
    "      \n",
    "else:\n",
    "    print(\"Seu cpf é: {}\".format(cpf))\n",
    "\n",
    "\n",
    "\n",
    "\n"
   ]
  }
 ],
 "metadata": {
  "kernelspec": {
   "display_name": "Python 3",
   "language": "python",
   "name": "python3"
  },
  "language_info": {
   "codemirror_mode": {
    "name": "ipython",
    "version": 3
   },
   "file_extension": ".py",
   "mimetype": "text/x-python",
   "name": "python",
   "nbconvert_exporter": "python",
   "pygments_lexer": "ipython3",
   "version": "3.11.4"
  },
  "orig_nbformat": 4
 },
 "nbformat": 4,
 "nbformat_minor": 2
}
