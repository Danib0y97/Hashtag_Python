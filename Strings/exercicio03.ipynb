{
 "cells": [
  {
   "cell_type": "code",
   "execution_count": 13,
   "metadata": {},
   "outputs": [
    {
     "name": "stdout",
     "output_type": "stream",
     "text": [
      "as\n"
     ]
    }
   ],
   "source": [
    "nome = input(\"Insira o seu nome: \")\n",
    "email = input(\"Insira o seu email: \")\n",
    "\n",
    "\n",
    "#string\n",
    "if nome and email:\n",
    "    a = email.find(\"@\")\n",
    "    servidor = email[a:]\n",
    "    if a != -1 and \".\" in servidor:\n",
    "        print(\"Cadastro concluíndo\")\n",
    "    else:\n",
    "        print(\"email inválido @.@\")\n",
    "\n",
    "else:\n",
    "    print(\"digite os campos @.@\")\n",
    "\n",
    "\n",
    "   \n"
   ]
  }
 ],
 "metadata": {
  "kernelspec": {
   "display_name": "Python 3",
   "language": "python",
   "name": "python3"
  },
  "language_info": {
   "codemirror_mode": {
    "name": "ipython",
    "version": 3
   },
   "file_extension": ".py",
   "mimetype": "text/x-python",
   "name": "python",
   "nbconvert_exporter": "python",
   "pygments_lexer": "ipython3",
   "version": "3.11.4"
  },
  "orig_nbformat": 4
 },
 "nbformat": 4,
 "nbformat_minor": 2
}
