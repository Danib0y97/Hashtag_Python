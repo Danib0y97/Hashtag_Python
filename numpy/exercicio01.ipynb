{
 "cells": [
  {
   "cell_type": "code",
   "execution_count": 3,
   "metadata": {},
   "outputs": [
    {
     "name": "stdout",
     "output_type": "stream",
     "text": [
      "159.0\n"
     ]
    }
   ],
   "source": [
    "import numpy as np\n",
    "\n",
    "dados = [127, 90, 201, 150, 210, 220, 115]\n",
    "\n",
    "array = np.array(dados)\n",
    "\n",
    "media = np.mean(array)\n",
    "\n",
    "print(media)"
   ]
  }
 ],
 "metadata": {
  "kernelspec": {
   "display_name": "Python 3",
   "language": "python",
   "name": "python3"
  },
  "language_info": {
   "codemirror_mode": {
    "name": "ipython",
    "version": 3
   },
   "file_extension": ".py",
   "mimetype": "text/x-python",
   "name": "python",
   "nbconvert_exporter": "python",
   "pygments_lexer": "ipython3",
   "version": "3.11.4"
  },
  "orig_nbformat": 4
 },
 "nbformat": 4,
 "nbformat_minor": 2
}
