{
 "cells": [
  {
   "cell_type": "code",
   "execution_count": 44,
   "metadata": {},
   "outputs": [
    {
     "ename": "UFuncTypeError",
     "evalue": "ufunc 'add' did not contain a loop with signature matching types (dtype('int64'), dtype('<U585')) -> None",
     "output_type": "error",
     "traceback": [
      "\u001b[1;31m---------------------------------------------------------------------------\u001b[0m",
      "\u001b[1;31mUFuncTypeError\u001b[0m                            Traceback (most recent call last)",
      "Cell \u001b[1;32mIn[44], line 15\u001b[0m\n\u001b[0;32m     12\u001b[0m qtd_imposto \u001b[39m=\u001b[39m df_funcionarios[\u001b[39m\"\u001b[39m\u001b[39mImpostos\u001b[39m\u001b[39m\"\u001b[39m]\u001b[39m.\u001b[39msum()\n\u001b[0;32m     13\u001b[0m qtd_Beneficios \u001b[39m=\u001b[39m df_funcionarios[\u001b[39m\"\u001b[39m\u001b[39mBeneficios\u001b[39m\u001b[39m\"\u001b[39m]\u001b[39m.\u001b[39msum()\n\u001b[1;32m---> 15\u001b[0m total \u001b[39m=\u001b[39m qtd_salario \u001b[39m+\u001b[39;49m qtd_imposto \u001b[39m+\u001b[39m qtd_Beneficios\n\u001b[0;32m     16\u001b[0m \u001b[39mprint\u001b[39m(total)\n",
      "\u001b[1;31mUFuncTypeError\u001b[0m: ufunc 'add' did not contain a loop with signature matching types (dtype('int64'), dtype('<U585')) -> None"
     ]
    }
   ],
   "source": [
    "import pandas as pd \n",
    "\n",
    "##func = pd.read_excel(\"CadastroFuncionarios.csv\", sheet_name='CadastroFuncionarios', engine = )\n",
    "\n",
    "\n",
    "df_funcionarios = pd.read_csv(r'CadastroFuncionarios.csv',sep = ';')\n",
    "\n",
    "\n",
    "\n",
    "\n",
    "qtd_salario = df_funcionarios[\"Salario Base\"].sum()\n",
    "qtd_imposto = df_funcionarios[\"Impostos\"].sum()\n",
    "qtd_Beneficios = df_funcionarios[\"Beneficios\"].sum()\n",
    "\n",
    "total = qtd_salario + qtd_imposto + qtd_Beneficios\n",
    "print(total)"
   ]
  },
  {
   "cell_type": "code",
   "execution_count": 23,
   "metadata": {},
   "outputs": [
    {
     "ename": "NameError",
     "evalue": "name 'total' is not defined",
     "output_type": "error",
     "traceback": [
      "\u001b[1;31m---------------------------------------------------------------------------\u001b[0m",
      "\u001b[1;31mNameError\u001b[0m                                 Traceback (most recent call last)",
      "Cell \u001b[1;32mIn[23], line 1\u001b[0m\n\u001b[1;32m----> 1\u001b[0m \u001b[39msum\u001b[39m(total)\n",
      "\u001b[1;31mNameError\u001b[0m: name 'total' is not defined"
     ]
    }
   ],
   "source": [
    "\n",
    "\n"
   ]
  }
 ],
 "metadata": {
  "kernelspec": {
   "display_name": "Python 3",
   "language": "python",
   "name": "python3"
  },
  "language_info": {
   "codemirror_mode": {
    "name": "ipython",
    "version": 3
   },
   "file_extension": ".py",
   "mimetype": "text/x-python",
   "name": "python",
   "nbconvert_exporter": "python",
   "pygments_lexer": "ipython3",
   "version": "3.11.4"
  },
  "orig_nbformat": 4
 },
 "nbformat": 4,
 "nbformat_minor": 2
}
