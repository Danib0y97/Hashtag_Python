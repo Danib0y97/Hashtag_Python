{
 "cells": [
  {
   "cell_type": "code",
   "execution_count": 9,
   "metadata": {},
   "outputs": [
    {
     "name": "stdout",
     "output_type": "stream",
     "text": [
      "[['arroz', '12'], ['tumate', '5'], ['batata', '2'], ['xuxu', '6']]\n"
     ]
    }
   ],
   "source": [
    "vendas =[]\n",
    "produto = input(\"Insira o produto: \")\n",
    "valor = input(\"Insira o valor: \")\n",
    "\n",
    "while produto or valor != \"\":\n",
    "\n",
    "    vendas.append([produto,valor])\n",
    "    produto = input(\"Insira o produto: \")\n",
    "    valor = input(\"Insira o valor: \")\n",
    "   \n",
    "\n",
    "print(vendas)\n",
    "#print(valor)"
   ]
  }
 ],
 "metadata": {
  "kernelspec": {
   "display_name": "Python 3",
   "language": "python",
   "name": "python3"
  },
  "language_info": {
   "codemirror_mode": {
    "name": "ipython",
    "version": 3
   },
   "file_extension": ".py",
   "mimetype": "text/x-python",
   "name": "python",
   "nbconvert_exporter": "python",
   "pygments_lexer": "ipython3",
   "version": "3.11.4"
  },
  "orig_nbformat": 4
 },
 "nbformat": 4,
 "nbformat_minor": 2
}
